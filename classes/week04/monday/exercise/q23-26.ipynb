{
  "cells": [
    {
      "cell_type": "markdown",
      "metadata": {},
      "source": [
        "# 🧪 Lab 1 Reinforcement Exercises\n",
        "These exercises build on Lab 1 concepts: input handling, string manipulation, control flow, and basic algorithms.\n",
        "Each problem includes a full description and a code cell for your solution."
      ]
    },
    {
      "cell_type": "markdown",
      "metadata": {},
      "source": [
        "## 🟩 Exercise 25: Vowel and Consonant Counter\n",
        "**Problem:** Ask the user for a block of text. Count and display the number of vowels and consonants. Ignore non-letter characters.\n",
        "\n",
        "**Input:**\n",
        "- A string of text\n",
        "\n",
        "**Output:**\n",
        "- Number of vowels\n",
        "- Number of consonants"
      ]
    },
    {
      "cell_type": "code",
      "execution_count": null,
      "metadata": {},
      "outputs": [],
      "source": [
        "txt = int(input(\"enter some text\"))\n",
        "vowel=0\n",
        "consonants=0\n",
        "for char in text:\n",
        "    if char.isalpha:\n",
        "        if char == 'a' or char== 'e' or char=='o' or char=='u' or char=='i' or char==\"A\" or char == 'E' or char==\"I\" or char==\"O\" or char==\"U\":\n",
        "            vowel= vowel+1\n",
        "        else:\n",
        "            consonants= consonants+1"
      ]
    },
    {
      "cell_type": "markdown",
      "metadata": {},
      "source": [
        "## 🟩 Exercise 26: Longest Word Finder\n",
        "**Problem:** Ask the user for a sentence. Identify and print the longest word. Strip punctuation from words before comparing lengths.\n",
        "\n",
        "**Input:**\n",
        "- A sentence with words and punctuation\n",
        "\n",
        "**Output:**\n",
        "- The longest word (punctuation removed)"
      ]
    },
    {
      "cell_type": "code",
      "execution_count": null,
      "metadata": {},
      "outputs": [],
      "source": [
        "txt = int(input(\"enter a sentence\"))\n",
        "\n",
        "words = sentence.split()\n",
        "clean_words = []\n",
        "\n",
        "# Remove punctuation\n",
        "for word in words:\n",
        "    word = word.replace(\".\", \"\")\n",
        "    word = word.replace(\",\", \"\")\n",
        "    word = word.replace(\"!\", \"\")\n",
        "    word = word.replace(\"?\", \"\")\n",
        "    word = word.replace(\";\", \"\")\n",
        "    word = word.replace(\":\", \"\")\n",
        "    word = word.replace(\"'\", \"\")\n",
        "    word = word.replace('\"', \"\")\n",
        "    \n",
        "    clean_words.append(word)\n",
        "\n",
        "# Start with the first word as the longest\n",
        "longest_word = clean_words[0]\n",
        "\n",
        "# Check each word's length\n",
        "for word in clean_words:\n",
        "    if len(word) > len(longest_word):\n",
        "        longest_word = word\n",
        "\n",
        "print(\"The longest word is:\", longest_word)"
      ]
    },
    {
      "cell_type": "markdown",
      "metadata": {},
      "source": [
        "## 🟩 Exercise 27: Sentence Type Breakdown\n",
        "**Problem:** Ask the user for a block of text. Count how many sentences end with `.`, `?`, and `!`. Display a breakdown of sentence types.\n",
        "\n",
        "**Input:**\n",
        "- A block of text\n",
        "\n",
        "**Output:**\n",
        "- Total number of sentences\n",
        "- Number of declarative (.), interrogative (?), and exclamatory (!) sentences"
      ]
    },
    {
      "cell_type": "code",
      "execution_count": null,
      "metadata": {},
      "outputs": [],
      "source": [
        "txt = int(input(\"enter some text\"))\n",
        "\n",
        "declarative = 0  \n",
        "interrogative = 0 \n",
        "exclamatory = 0  \n",
        "\n",
        "for char in txt:\n",
        "    if char == '.':\n",
        "        declarative += 1\n",
        "    elif char == '?':\n",
        "        interrogative += 1\n",
        "    elif char == '!':\n",
        "        exclamatory += 1\n",
        "\n",
        "total = declarative + interrogative + exclamatory\n",
        "\n",
        "print(\"Total number of sentences:\", total)\n",
        "print(\"Declarative sentences:\", declarative)\n",
        "print(\"Interrogative sentences:\", interrogative)\n",
        "print(\"Exclamatory sentences:\", exclamatory)"
      ]
    },
    {
      "cell_type": "markdown",
      "metadata": {},
      "source": [
        "## Exercise 28: Caesar Cipher Key Finder\n",
        "\n",
        "Objective: Write a program to decode a message when the key is unknown, using reasoning instead of trying all shifts.\n",
        "\n",
        "Scenario:\n",
        "-    You receive an encrypted message:\n",
        "-    Encrypted message: 'KHOOR ZRUOG'\n",
        "-    Hint: The first word is 'HELLO'\n",
        "  \n",
        "  \n",
        "Tasks:\n",
        "-    Identify the shift key\n",
        "-    Use the hint ('HELLO') to determine the number of positions the letters were shifted.\n",
        "-    Think: 'H' ? 'K', what shift was applied?\n",
        "-    Decode the full message\n",
        "-    Write a function decode_caesar(message, key) that takes the encrypted message and the key you found.\n",
        "-    Print the decrypted message."
      ]
    },
    {
      "cell_type": "code",
      "execution_count": null,
      "metadata": {},
      "outputs": [],
      "source": []
    }
  ],
  "metadata": {
    "kernelspec": {
      "display_name": "venv",
      "language": "python",
      "name": "python3"
    },
    "language_info": {
      "name": "python",
      "version": "3.10.18"
    }
  },
  "nbformat": 4,
  "nbformat_minor": 2
}
