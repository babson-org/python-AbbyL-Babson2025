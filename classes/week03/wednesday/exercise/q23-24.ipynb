{
  "cells": [
    {
      "cell_type": "markdown",
      "metadata": {},
      "source": [
        "# 🧪 Lab 1 Reinforcement Exercises\n",
        "These exercises build on Lab 1 concepts: input handling, string manipulation, control flow, and basic algorithms.\n",
        "Each problem includes a full description and a code cell for your solution."
      ]
    },
    {
      "cell_type": "markdown",
      "metadata": {},
      "source": [
        "## 🔷 Exercise 23: Diamond with Custom Character\n",
        "**Problem:** Modify the diamond-drawing logic so the user can choose the character used to draw the diamond. The diamond should remain symmetric and centered.\n",
        "              Make the Diamond solid fill  i.e. :\n",
        "\n",
        "               *\n",
        "              ***\n",
        "               *\n",
        "\n",
        "**Input:**\n",
        "- An odd integer for the height of the diamond\n",
        "- A single character to use for drawing\n",
        "\n",
        "**Output:**\n",
        "- A symmetric solid diamond printed using the chosen character"
      ]
    },
    {
      "cell_type": "code",
      "execution_count": null,
      "metadata": {},
      "outputs": [],
      "source": [
        "txt=\"Input an odd number\"\n",
        "while True:\n",
        "    try:\n",
        "        num=int(input(txt))\n",
        "        if num%2==0:\n",
        "            txt=\"that's an even number\"\n",
        "            continue\n",
        "        break #allow to stop the loop when the user inputs an odd number\n",
        "    except ValueError:\n",
        "            txt=\"invalid input. Try again!\" \n",
        "\n",
        "while True:\n",
        "    character=input(\"input a character\")\n",
        "    if len(character)==1:\n",
        "        break\n",
        "    else:\n",
        "        print(\"That's more than one character. Try again!\")\n",
        "\n",
        "          "
      ]
    },
    {
      "cell_type": "markdown",
      "metadata": {},
      "source": [
        "## 🔷 Exercise 24: Diamond Height Validation\n",
        "**Problem:** Prompt the user for an odd number greater than 1. If the input is invalid, display an error and ask again until a valid number is entered.\n",
        "\n",
        "**Input:**\n",
        "- A string from the user (may or may not be a valid number)\n",
        "\n",
        "**Output:**\n",
        "- A confirmation message when a valid odd number > 1 is entered\n",
        "- Error messages for invalid inputs"
      ]
    },
    {
      "cell_type": "code",
      "execution_count": null,
      "metadata": {},
      "outputs": [],
      "source": []
    }
  ],
  "metadata": {
    "kernelspec": {
      "display_name": "venv",
      "language": "python",
      "name": "python3"
    },
    "language_info": {
      "name": "python",
      "version": "3.10.18"
    }
  },
  "nbformat": 4,
  "nbformat_minor": 2
}
